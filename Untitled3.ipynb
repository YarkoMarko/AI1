{
  "nbformat": 4,
  "nbformat_minor": 0,
  "metadata": {
    "colab": {
      "provenance": [],
      "authorship_tag": "ABX9TyO7v7/eIosjfI5xOH/dPHDM",
      "include_colab_link": true
    },
    "kernelspec": {
      "name": "python3",
      "display_name": "Python 3"
    },
    "language_info": {
      "name": "python"
    }
  },
  "cells": [
    {
      "cell_type": "markdown",
      "metadata": {
        "id": "view-in-github",
        "colab_type": "text"
      },
      "source": [
        "<a href=\"https://colab.research.google.com/github/YarkoMarko/AI1/blob/main/Untitled3.ipynb\" target=\"_parent\"><img src=\"https://colab.research.google.com/assets/colab-badge.svg\" alt=\"Open In Colab\"/></a>"
      ]
    },
    {
      "cell_type": "code",
      "execution_count": 15,
      "metadata": {
        "colab": {
          "base_uri": "https://localhost:8080/"
        },
        "id": "EZo6aq7R3TD0",
        "outputId": "1390acf9-7913-46d8-8be9-acd129602bd5"
      },
      "outputs": [
        {
          "output_type": "stream",
          "name": "stdout",
          "text": [
            "[[1. 0. 1. 0. 1. 0. 1. 0.]\n",
            " [0. 1. 0. 1. 0. 1. 0. 1.]\n",
            " [1. 0. 1. 0. 1. 0. 1. 0.]\n",
            " [0. 1. 0. 1. 0. 1. 0. 1.]\n",
            " [1. 0. 1. 0. 1. 0. 1. 0.]\n",
            " [0. 1. 0. 1. 0. 1. 0. 1.]\n",
            " [1. 0. 1. 0. 1. 0. 1. 0.]\n",
            " [0. 1. 0. 1. 0. 1. 0. 1.]]\n",
            "[[0.20833183 0.87068369 0.36428721]\n",
            " [0.74291918 0.65985724 0.55527427]\n",
            " [0.67276844 0.74842738 0.42910045]\n",
            " [0.07749125 0.15185803 0.67443263]]\n"
          ]
        }
      ],
      "source": [
        "import numpy as np\n",
        "#Task 1\n",
        "a = np.arange(1, 13)\n",
        "print(a)\n",
        "print(a.shape, type(a))\n",
        "print()\n",
        "\n",
        "#Task 3\n",
        "b = np.zeros((8, 8))\n",
        "b[0:9:2, 0:9:2] = 1\n",
        "b[1:9:2, 1:9:2] = 1\n",
        "\n",
        "print(b)\n",
        "#Task 4\n",
        "c = np.random.random((4, 3))\n",
        "print(c)"
      ]
    }
  ]
}